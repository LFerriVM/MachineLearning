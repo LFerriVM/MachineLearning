{
 "cells": [
  {
   "cell_type": "code",
   "execution_count": 65,
   "metadata": {},
   "outputs": [],
   "source": [
    "import tensorflow as tf\n",
    "import numpy as np"
   ]
  },
  {
   "cell_type": "code",
   "execution_count": 66,
   "metadata": {},
   "outputs": [
    {
     "name": "stdout",
     "output_type": "stream",
     "text": [
      "tf.Tensor(b'Hello, world!', shape=(), dtype=string)\n",
      "Hello, world!\n"
     ]
    }
   ],
   "source": [
    "sentence = tf.constant(\"Hello, world!\")\n",
    "print(sentence)\n",
    "\n",
    "content = sentence.numpy().decode(\"utf-8\")\n",
    "print(content)"
   ]
  },
  {
   "cell_type": "code",
   "execution_count": 67,
   "metadata": {},
   "outputs": [
    {
     "name": "stdout",
     "output_type": "stream",
     "text": [
      "[15, 5, 10]\n"
     ]
    }
   ],
   "source": [
    "a = tf.constant(5)\n",
    "b = tf.constant(3)\n",
    "c = tf.constant(2)\n",
    "\n",
    "d = tf.multiply(a, b)\n",
    "e = tf.add(b, c)\n",
    "f = tf.subtract(d, e)\n",
    "\n",
    "print([i.numpy() for i in [d, e, f]])"
   ]
  },
  {
   "cell_type": "code",
   "execution_count": 68,
   "metadata": {},
   "outputs": [
    {
     "name": "stdout",
     "output_type": "stream",
     "text": [
      "tf.Tensor(\n",
      "[[2 0 4]\n",
      " [3 5 7]], shape=(2, 3), dtype=int32)\n"
     ]
    }
   ],
   "source": [
    "a = tf.constant(5)\n",
    "b = tf.constant([3, 1, 5, 8, 6])\n",
    "c = tf.constant([[2, 0, 4], [3, 5, 7]])\n",
    "\n",
    "print(c)"
   ]
  },
  {
   "cell_type": "code",
   "execution_count": 69,
   "metadata": {},
   "outputs": [
    {
     "name": "stdout",
     "output_type": "stream",
     "text": [
      "[tf.int32, tf.float32, tf.float16]\n"
     ]
    }
   ],
   "source": [
    "x = tf.constant(4)\n",
    "y = tf.constant(4.0)\n",
    "z = tf.constant(4, dtype=tf.float16)\n",
    "\n",
    "print([i.dtype for i in [x, y, z]])"
   ]
  },
  {
   "cell_type": "code",
   "execution_count": 70,
   "metadata": {},
   "outputs": [
    {
     "name": "stdout",
     "output_type": "stream",
     "text": [
      "[[2 3]\n",
      " [5 6]]\n",
      "[[ 6]\n",
      " [15]]\n",
      "[[1 4]\n",
      " [2 5]\n",
      " [3 6]]\n"
     ]
    }
   ],
   "source": [
    "A = tf.constant([[1, 2, 3], [4, 5, 6]])\n",
    "B = tf.constant([[0, 0], [1, 0], [0, 1]])\n",
    "\n",
    "result = tf.matmul(A, B)\n",
    "print(result.numpy())\n",
    "\n",
    "C = tf.constant([1, 1, 1])\n",
    "C = tf.expand_dims(C, 1)\n",
    "\n",
    "result = tf.matmul(A, C)\n",
    "print(result.numpy())\n",
    "\n",
    "transposed = tf.transpose(A)\n",
    "print(transposed.numpy())"
   ]
  },
  {
   "cell_type": "code",
   "execution_count": 71,
   "metadata": {},
   "outputs": [
    {
     "name": "stdout",
     "output_type": "stream",
     "text": [
      "<tf.Variable 'Variable:0' shape=() dtype=int32, numpy=2>\n",
      "<tf.Variable 'Variable:0' shape=(3, 5) dtype=float32, numpy=\n",
      "array([[-2.089078  ,  0.21295387,  0.31746966,  1.0230421 , -0.16434233],\n",
      "       [-1.025067  , -0.17224917,  0.44961858, -0.45272925, -0.9374949 ],\n",
      "       [-1.0648828 , -1.5159427 ,  1.4046143 ,  0.19071166,  0.97803694]],\n",
      "      dtype=float32)>\n"
     ]
    }
   ],
   "source": [
    "variable = tf.Variable(2)\n",
    "\n",
    "print(variable)\n",
    "\n",
    "matrix = tf.random.normal((3, 5), 0, 1)\n",
    "variable = tf.Variable(matrix)\n",
    "\n",
    "print(variable)"
   ]
  }
 ],
 "metadata": {
  "kernelspec": {
   "display_name": "venv",
   "language": "python",
   "name": "python3"
  },
  "language_info": {
   "codemirror_mode": {
    "name": "ipython",
    "version": 3
   },
   "file_extension": ".py",
   "mimetype": "text/x-python",
   "name": "python",
   "nbconvert_exporter": "python",
   "pygments_lexer": "ipython3",
   "version": "3.12.4"
  }
 },
 "nbformat": 4,
 "nbformat_minor": 2
}
